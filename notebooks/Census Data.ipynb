{
 "cells": [
  {
   "cell_type": "code",
   "execution_count": 8,
   "metadata": {},
   "outputs": [],
   "source": [
    "import pandas as pd\n",
    "import geopandas as gp\n",
    "import requests as r"
   ]
  },
  {
   "cell_type": "markdown",
   "metadata": {},
   "source": [
    "## Census Variables ##\n",
    "\n",
    "For our purposes, we're interested in the following census variables:\n",
    "* "
   ]
  },
  {
   "cell_type": "code",
   "execution_count": 40,
   "metadata": {},
   "outputs": [],
   "source": [
    "API_KEY = \"48af7884053357899061865936fefb22a06bae95\"\n",
    "# example url: \n",
    "# https://api.census.gov/data/2017/acs/acs5?get=NAME,B01001_001E&for=tract:*&in=state:01&key=\n",
    "URL_STUB = \"https://api.census.gov/data/2017/acs/acs5?get={variable}&for=tract:*&in=state:{fips_state}&key={api_key}\""
   ]
  },
  {
   "cell_type": "code",
   "execution_count": 41,
   "metadata": {},
   "outputs": [
    {
     "name": "stdout",
     "output_type": "stream",
     "text": [
      "https://api.census.gov/data/2017/acs/acs5?get=B01001_001E&for=tract:*&in=state:01&key=48af7884053357899061865936fefb22a06bae95\n"
     ]
    }
   ],
   "source": [
    "variable = \"B01001_001E\"\n",
    "fips_state = \"01\"\n",
    "\n",
    "api_url = URL_STUB.format(variable=variable, fips_state=fips_state, fips_county=fips_county, api_key=API_KEY)\n",
    "\n",
    "print(api_url)\n",
    "\n",
    "data = r.get(api_url)"
   ]
  },
  {
   "cell_type": "markdown",
   "metadata": {},
   "source": [
    "## References ##\n",
    "\n",
    "* [American Community Survey 5-Year Data (2009-2017)](https://www.census.gov/data/developers/data-sets/acs-5year.html)\n",
    "* [Census API: Datasets](https://api.census.gov/data.html)"
   ]
  },
  {
   "cell_type": "code",
   "execution_count": null,
   "metadata": {},
   "outputs": [],
   "source": []
  }
 ],
 "metadata": {
  "kernelspec": {
   "display_name": "Python 3",
   "language": "python",
   "name": "python3"
  },
  "language_info": {
   "codemirror_mode": {
    "name": "ipython",
    "version": 3
   },
   "file_extension": ".py",
   "mimetype": "text/x-python",
   "name": "python",
   "nbconvert_exporter": "python",
   "pygments_lexer": "ipython3",
   "version": "3.7.3"
  }
 },
 "nbformat": 4,
 "nbformat_minor": 2
}
