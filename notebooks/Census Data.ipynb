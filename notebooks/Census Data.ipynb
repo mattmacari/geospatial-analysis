{
 "cells": [
  {
   "cell_type": "code",
   "execution_count": null,
   "metadata": {},
   "outputs": [],
   "source": [
    "# %matplotlib notebook\n",
    "import pandas as pd\n",
    "import geopandas as gpd\n",
    "import requests as r\n",
    "import os\n",
    "import typing\n",
    "import json\n",
    "\n",
    "# manipulating spatial data\n",
    "from io import StringIO\n",
    "import zipfile\n",
    "import matplotlib.pyplot as plt\n",
    "import folium\n",
    "import folium.plugins"
   ]
  },
  {
   "cell_type": "code",
   "execution_count": null,
   "metadata": {},
   "outputs": [],
   "source": [
    "# helper stuff\n",
    "STATE = 'state'\n",
    "COUNTY = 'county'\n",
    "TRACT = 'tract'\n",
    "BLOCK_GROUP = 'block group'\n",
    "LEVELS_OF_DETAIL = [STATE, COUNTY, TRACT]\n",
    "\n",
    "PREFIX_COLUMNS = ['geo_id', 'state', 'county', 'tract', 'block group']"
   ]
  },
  {
   "cell_type": "markdown",
   "metadata": {},
   "source": [
    "## Census Variables ##\n",
    "\n",
    "For our purposes, we're interested in the census variable group B08302 - which is when people leave to go to work."
   ]
  },
  {
   "cell_type": "code",
   "execution_count": null,
   "metadata": {},
   "outputs": [],
   "source": [
    "API_KEY = os.environ.get(\"CENSUS_API_KEY\")\n",
    "# example url: \n",
    "# https://api.census.gov/data/2017/acs/acs5?get=NAME,B01001_001E&for=tract:*&in=state:01&key=\n",
    "URL_STUB = \"https://api.census.gov/data/2017/acs/acs5?get={variable}&for={level_of_detail}:*&in=state:{fips_state}&in=county:{county}&key={api_key}\"\n"
   ]
  },
  {
   "cell_type": "code",
   "execution_count": null,
   "metadata": {},
   "outputs": [],
   "source": [
    "def fetch_census_variable(variable: str, \n",
    "                          fips_state: str, \n",
    "                          fips_county: str,\n",
    "                          level_of_detail: str, \n",
    "                          api_key: str, \n",
    "                          url_stub: str = URL_STUB) -> typing.Dict:\n",
    "    \"\"\"\n",
    "    Using a census variable, pull the level of detail requested.\n",
    "    \"\"\"\n",
    "    # pull data from REST API\n",
    "    api_url = url_stub.format(\n",
    "        variable=variable, \n",
    "        fips_state=fips_state, \n",
    "        county=county, \n",
    "        api_key=API_KEY, \n",
    "        level_of_detail=level_of_detail\n",
    "    )\n",
    "    api_resp = r.get(api_url)\n",
    "    \n",
    "    json_data = api_resp.json()\n",
    "    keys = json_data[0]\n",
    "    keys = list(map(lambda x: x.lower(), keys))\n",
    "\n",
    "    data_set = [dict(zip(keys, elem)) for elem in json_data[1:]]\n",
    "    # create dataframe\n",
    "    return pd.DataFrame(data_set)"
   ]
  },
  {
   "cell_type": "code",
   "execution_count": null,
   "metadata": {
    "scrolled": true
   },
   "outputs": [],
   "source": [
    "variable = \"group(B08302)\" # Time leaving home to go to work\n",
    "omaha_cbsa = [\n",
    "    ('19','155'),\n",
    "    ('31', '025'),\n",
    "    ('31', '055'),\n",
    "    ('31', '153'),\n",
    "    ('31', '177'),\n",
    "]\n",
    "\n",
    "dfs = []\n",
    "\n",
    "for fips_state, county in omaha_cbsa:\n",
    "    print('fetching {}{}'.format(fips_state, county))\n",
    "    # Build a basic data frame\n",
    "    df = fetch_census_variable(\n",
    "        variable=variable,\n",
    "        fips_state=fips_state, \n",
    "        fips_county=county, \n",
    "        level_of_detail=BLOCK_GROUP, \n",
    "        api_key=API_KEY\n",
    "    )\n",
    "\n",
    "    dfs.append(df)\n",
    "    print('found {} data points for {}{}'.format(len(df), fips_state, county))\n",
    "\n",
    "\n",
    "df = pd.concat(dfs)\n",
    "\n",
    "df.head(5)"
   ]
  },
  {
   "cell_type": "code",
   "execution_count": null,
   "metadata": {},
   "outputs": [],
   "source": [
    "filter_columns = lambda x: x.startswith('b') and x.endswith('e')\n",
    "\n",
    "columns = list(set(df.columns).difference(set(PREFIX_COLUMNS)))\n",
    "\n",
    "retain_columns = sorted(list(filter(filter_columns, columns)))\n",
    "\n",
    "df2 = df[PREFIX_COLUMNS + retain_columns].copy(deep=True)\n",
    "\n",
    "for col in filter(filter_columns, df2.columns):\n",
    "    df2[col] = df2[col].astype('int')\n",
    " \n",
    "df2['geo_id'] = df2['state'] + df2['county'] + df2['tract'] + df2['block group']"
   ]
  },
  {
   "cell_type": "code",
   "execution_count": null,
   "metadata": {},
   "outputs": [],
   "source": [
    "df2.head(10)"
   ]
  },
  {
   "cell_type": "markdown",
   "metadata": {},
   "source": [
    "# Geospatial Data\n",
    "\n",
    "The Census Bureau publishes shape files on the state level, which are useful when we're lookind at very detailed geographies such as tracts or block groups.\n",
    "\n",
    "Download the block groups here:'ftp://ftp2.census.gov/geo/tiger/TIGER2018/BG/tl_2018_31_bg.zip'"
   ]
  },
  {
   "cell_type": "code",
   "execution_count": null,
   "metadata": {},
   "outputs": [],
   "source": [
    "# shape file\n",
    "ne_shape_file_path = '../ref_data/tl_2018_31_bg/tl_2018_31_bg.shp'\n",
    "ia_shape_file_path = '../ref_data/tl_2018_19_bg/tl_2018_19_bg.shp'\n",
    "\n",
    "ne_gdf = gpd.read_file(ne_shape_file_path)\n",
    "ia_gdf = gpd.read_file(ia_shape_file_path)\n",
    "\n",
    "ne_gdf = ne_gdf[ne_gdf['COUNTYFP'].isin(('055', '025', '153', '177'))]\n",
    "ia_gdf = ia_gdf[ia_gdf['COUNTYFP'].isin(('155',))]\n",
    "\n",
    "cbsa_gdf = pd.concat([ne_gdf, ia_gdf])\n",
    "\n",
    "cbsa_gdf.head(10)"
   ]
  },
  {
   "cell_type": "code",
   "execution_count": null,
   "metadata": {},
   "outputs": [],
   "source": [
    "f, ax = plt.subplots(1, figsize=(16, 16))\n",
    "ax = cbsa_gdf.plot(ax=ax)\n",
    "plt.show()"
   ]
  },
  {
   "cell_type": "code",
   "execution_count": null,
   "metadata": {},
   "outputs": [],
   "source": [
    "cbsa_gdf = cbsa_gdf.merge(df2, right_on='geo_id', left_on='GEOID')\n",
    "\n",
    "cbsa_gdf.head(4)"
   ]
  },
  {
   "cell_type": "code",
   "execution_count": null,
   "metadata": {},
   "outputs": [],
   "source": [
    "mapping_columns = [\n",
    "    'geo_id',\n",
    "    'state',\n",
    "    'county',\n",
    "    'tract',\n",
    "    'block group',\n",
    "    'geometry',\n",
    "    'b08302_001e', \n",
    "    'b08302_002e', \n",
    "    'b08302_003e', \n",
    "    'b08302_004e',\n",
    "    'b08302_005e', \n",
    "    'b08302_006e', \n",
    "    'b08302_007e',\n",
    "    'b08302_008e',\n",
    "    'b08302_009e',\n",
    "    'b08302_010e',\n",
    "    'b08302_011e',\n",
    "    'b08302_012e',\n",
    "    'b08302_013e',\n",
    "    'b08302_014e',\n",
    "    'b08302_015e'\n",
    "]\n",
    "\n",
    "\n",
    "variable = 'b08302_005e'\n",
    "\n",
    "\n",
    "for_map_gdf = cbsa_gdf[mapping_columns][cbsa_gdf['county'].isin(['055'])]\n",
    "max_amount = float(for_map_gdf[variable].max())\n",
    "variable_total = float(for_map_gdf[variable].sum())\n",
    "\n",
    "for_map_gdf['percentage'] = for_map_gdf[variable] / variable_total\n",
    "for_map_gdf = for_map_gdf[['geo_id', 'geometry', variable, 'percentage']]\n",
    "\n",
    "map_df = for_map_gdf[['geo_id', variable, 'percentage']]\n",
    "\n",
    "geo_json = for_map_gdf.to_crs(epsg=\"4326\").to_json()\n",
    "\n",
    "for_map_gdf.head(10)"
   ]
  },
  {
   "cell_type": "code",
   "execution_count": null,
   "metadata": {
    "scrolled": true
   },
   "outputs": [],
   "source": [
    "m = folium.Map(location=[41.2674519, -95.9893462], zoom_start=10)\n",
    "\n",
    "folium.Choropleth(\n",
    "    geo_data=for_map_gdf,\n",
    "    name='Leaving for work between 12:00am and 4:59am',\n",
    "    data=map_df,\n",
    "    columns=['geo_id', variable],\n",
    "    key_on='feature.properties.geo_id',\n",
    "    fill_color='YlGn',\n",
    "    fill_opacity=0.6,\n",
    "    line_opacity=0.2,\n",
    "    reset=True,\n",
    "    legend_name=\"Population Size\"\n",
    ").add_to(m)\n",
    "\n",
    "m"
   ]
  },
  {
   "cell_type": "markdown",
   "metadata": {},
   "source": [
    "## Aggegating up to Tracts"
   ]
  },
  {
   "cell_type": "code",
   "execution_count": null,
   "metadata": {},
   "outputs": [],
   "source": [
    "tract_cbsa_gdf = cbsa_gdf.copy(deep=True)\n",
    "\n",
    "tract_cbsa_gdf['tract_geo_id'] = tract_cbsa_gdf['state'] + tract_cbsa_gdf['county'] + tract_cbsa_gdf['tract']\n",
    "\n",
    "tract_cbsa_gdf = tract_cbsa_gdf.dissolve(by='tract_geo_id', aggfunc='sum')\n",
    "\n",
    "tract_cbsa_gdf = tract_cbsa_gdf.reset_index()\n",
    "\n",
    "tract_cbsa_gdf = tract_cbsa_gdf[tract_cbsa_gdf['tract_geo_id'].str.startswith('31')]\n",
    "\n",
    "tract_cbsa_gdf.head(5)"
   ]
  },
  {
   "cell_type": "code",
   "execution_count": null,
   "metadata": {},
   "outputs": [],
   "source": [
    "f, ax = plt.subplots(1, figsize=(16, 16))\n",
    "ax = tract_cbsa_gdf.plot(ax=ax)\n",
    "plt.show()"
   ]
  },
  {
   "cell_type": "code",
   "execution_count": null,
   "metadata": {},
   "outputs": [],
   "source": [
    "m = folium.Map(location=[41.2674519, -95.9893462], zoom_start=10)\n",
    "\n",
    "folium.Choropleth(\n",
    "    geo_data=tract_cbsa_gdf,\n",
    "    data=tract_cbsa_gdf,\n",
    "    columns=['tract_geo_id', variable],\n",
    "    key_on='feature.properties.tract_geo_id',\n",
    "    fill_color='YlGn',\n",
    "    fill_opacity=0.6,\n",
    "    line_opacity=0.2,\n",
    "    reset=True,\n",
    "    legend_name=\"Population Size\"\n",
    ").add_to(m)\n",
    "\n",
    "m"
   ]
  },
  {
   "cell_type": "markdown",
   "metadata": {},
   "source": [
    "## Geospatial Analysis"
   ]
  },
  {
   "cell_type": "code",
   "execution_count": null,
   "metadata": {},
   "outputs": [],
   "source": [
    "%matplotlib inline\n",
    "\n",
    "import seaborn as sns\n",
    "import pysal as ps\n",
    "from sklearn import cluster\n",
    "from sklearn.preprocessing import scale"
   ]
  },
  {
   "cell_type": "code",
   "execution_count": null,
   "metadata": {},
   "outputs": [],
   "source": [
    "filter_columns = lambda x: x.startswith('b') and x.endswith('e')\n",
    "\n",
    "columns = list(set(df.columns).difference(set(PREFIX_COLUMNS)))\n",
    "\n",
    "retain_columns = sorted(list(filter(filter_columns, columns)))\n",
    "\n",
    "df2 = df[PREFIX_COLUMNS + retain_columns].copy(deep=True)\n",
    "\n",
    "for col in filter(filter_columns, df2.columns):\n",
    "    df2[col] = df2[col].astype('int')\n",
    " \n",
    "df2['geo_id'] = df2['state'] + df2['county'] + df2['tract'] + df2['block group']\n",
    "\n",
    "ne_gdf = ne_gdf[ne_gdf['COUNTYFP'].isin(('055', '025', '153', '177'))]\n",
    "ia_gdf = ia_gdf[ia_gdf['COUNTYFP'].isin(('155',))]\n",
    "\n",
    "cbsa_gdf = pd.concat([ne_gdf, ia_gdf])"
   ]
  },
  {
   "cell_type": "code",
   "execution_count": null,
   "metadata": {
    "scrolled": false
   },
   "outputs": [],
   "source": [
    "df2.index = df2['geo_id']\n",
    "\n",
    "variables = [ \n",
    "    'b08302_002e', \n",
    "    'b08302_003e', \n",
    "    'b08302_004e',\n",
    "    'b08302_005e', \n",
    "    'b08302_006e', \n",
    "    'b08302_007e',\n",
    "    'b08302_008e',\n",
    "    'b08302_009e',\n",
    "    'b08302_010e',\n",
    "    'b08302_011e',\n",
    "    'b08302_012e',\n",
    "    'b08302_013e',\n",
    "    'b08302_014e',\n",
    "    'b08302_015e'\n",
    "]\n",
    "\n",
    "df2 = df2[variables]\n",
    "\n",
    "df2.head(10)"
   ]
  },
  {
   "cell_type": "code",
   "execution_count": null,
   "metadata": {},
   "outputs": [],
   "source": [
    "db = pd.DataFrame(\n",
    "    scale(df2),\n",
    "    index=df2.index,\n",
    "    columns=df2.columns).rename(lambda x: str(int(x)))\n",
    "\n",
    "db.head(10)"
   ]
  },
  {
   "cell_type": "code",
   "execution_count": null,
   "metadata": {
    "scrolled": true
   },
   "outputs": [],
   "source": [
    "geo_db = cbsa_gdf.merge(db, right_index=True, left_on='GEOID')\n",
    "\n",
    "geo_db = geo_db[['GEOID', 'b08302_002e', 'b08302_003e', 'b08302_004e',\n",
    "       'b08302_005e', 'b08302_006e', 'b08302_007e', 'b08302_008e',\n",
    "       'b08302_009e', 'b08302_010e', 'b08302_011e', 'b08302_012e',\n",
    "       'b08302_013e', 'b08302_014e', 'b08302_015e', 'geometry']]\n",
    "\n",
    "# # filter to just douglas county\n",
    "geo_db = geo_db[geo_db['GEOID'].str.startswith('31055')]\n",
    "\n",
    "geo_db.idex = geo_db['GEOID']\n",
    "\n",
    "geo_db.head(4)"
   ]
  },
  {
   "cell_type": "code",
   "execution_count": null,
   "metadata": {},
   "outputs": [],
   "source": [
    "cluster.KMeans?"
   ]
  },
  {
   "cell_type": "code",
   "execution_count": null,
   "metadata": {},
   "outputs": [],
   "source": [
    "km5 = cluster.KMeans(n_clusters=5)\n",
    "\n",
    "km5cls = km5.fit(geo_db.drop(['geometry', 'GEOID'], axis=1).values)"
   ]
  },
  {
   "cell_type": "code",
   "execution_count": null,
   "metadata": {},
   "outputs": [],
   "source": [
    "f, ax = plt.subplots(1, figsize=(15, 15))\n",
    "\n",
    "geo_db.assign(cl=km5cls.labels_).plot(\n",
    "    column='cl', \n",
    "    categorical=True, \n",
    "    legend=True, \n",
    "    linewidth=0.1,\n",
    "    edgecolor='white',\n",
    "    ax=ax)\n",
    "\n",
    "ax.set_axis_off()\n",
    "\n",
    "plt.show()"
   ]
  },
  {
   "cell_type": "code",
   "execution_count": null,
   "metadata": {
    "scrolled": true
   },
   "outputs": [],
   "source": [
    "geo_db = geo_db.assign(cl=km5cls.labels_)\n",
    "geo_db.head(10)"
   ]
  },
  {
   "cell_type": "code",
   "execution_count": null,
   "metadata": {},
   "outputs": [],
   "source": [
    "geo_db['cl'].values"
   ]
  },
  {
   "cell_type": "code",
   "execution_count": null,
   "metadata": {},
   "outputs": [],
   "source": [
    "geo_db = geo_db[['GEOID', 'geometry', 'cl']]\n",
    "\n",
    "m = folium.Map(location=[41.2674519, -95.9893462], zoom_start=10)\n",
    "\n",
    "bins = [0, 1, 2, 3, 4]\n",
    "\n",
    "folium.Choropleth(\n",
    "    geo_data=geo_db,\n",
    "    name='Leaving for work between 12:00am and 4:59am',\n",
    "    data=geo_db,\n",
    "    columns=['GEOID', \"cl\"],\n",
    "    key_on='feature.properties.GEOID',\n",
    "    fill_color='YlGn',\n",
    "    fill_opacity=0.6,\n",
    "    line_opacity=0.2,\n",
    "    reset=True,\n",
    "    legend_name=\"Cluster\",\n",
    "    bins=4\n",
    ").add_to(m)\n",
    "\n",
    "m"
   ]
  },
  {
   "cell_type": "code",
   "execution_count": null,
   "metadata": {},
   "outputs": [],
   "source": [
    "folium.Choropleth?"
   ]
  },
  {
   "cell_type": "markdown",
   "metadata": {},
   "source": [
    "## References\n",
    "\n",
    "* [American Community Survey 5-Year Data (2009-2017)](https://www.census.gov/data/developers/data-sets/acs-5year.html)\n",
    "* [Census API: Datasets](https://api.census.gov/data.html)"
   ]
  },
  {
   "cell_type": "code",
   "execution_count": null,
   "metadata": {},
   "outputs": [],
   "source": []
  }
 ],
 "metadata": {
  "kernelspec": {
   "display_name": "Python 3",
   "language": "python",
   "name": "python3"
  },
  "language_info": {
   "codemirror_mode": {
    "name": "ipython",
    "version": 3
   },
   "file_extension": ".py",
   "mimetype": "text/x-python",
   "name": "python",
   "nbconvert_exporter": "python",
   "pygments_lexer": "ipython3",
   "version": "3.7.3"
  }
 },
 "nbformat": 4,
 "nbformat_minor": 2
}
